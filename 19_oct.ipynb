{
 "cells": [
  {
   "cell_type": "code",
   "execution_count": 2,
   "id": "19214a51-fe9e-4694-9045-553635a74514",
   "metadata": {},
   "outputs": [
    {
     "name": "stdout",
     "output_type": "stream",
     "text": [
      "yes there is duplication in a arr\n"
     ]
    }
   ],
   "source": [
    "#1\n",
    "arr = [1, 2, 4, 2, 5, 9]\n",
    "r=0\n",
    "for i in range(0,len(arr)):\n",
    "    for j in range(1,len(arr)):\n",
    "        if arr[i]==arr[j] and i!=j:\n",
    "            print(\"yes there is duplication in a arr\")\n",
    "            r=1\n",
    "            break\n",
    "    if r==1:\n",
    "        break\n",
    "if r!=1:\n",
    "    print(\"No there is no any duplication in an arr\")\n",
    "        "
   ]
  },
  {
   "cell_type": "code",
   "execution_count": 7,
   "id": "d4aafcc0-6a65-4b77-9334-ad95e6b7ff37",
   "metadata": {},
   "outputs": [
    {
     "name": "stdout",
     "output_type": "stream",
     "text": [
      "[5, 6, 7, 1, 2, 3, 4]\n"
     ]
    }
   ],
   "source": [
    "#2\n",
    "arr = [1, 2, 3, 4, 5, 6, 7] \n",
    "k = 3\n",
    "print(arr[-k:]+arr[:-k])\n"
   ]
  },
  {
   "cell_type": "code",
   "execution_count": 10,
   "id": "4fd7ae41-8e23-42d9-86eb-6c3875c1935d",
   "metadata": {},
   "outputs": [
    {
     "name": "stdout",
     "output_type": "stream",
     "text": [
      "[12, 9, 7, 5, 4, 2]\n"
     ]
    }
   ],
   "source": [
    "#3\n",
    "arr = [2, 4, 5, 7, 9, 12]\n",
    "s,e=0,len(arr)-1\n",
    "while s<e:\n",
    "    arr[s],arr[e]=arr[e],arr[s]\n",
    "    s+=1\n",
    "    e-=1\n",
    "print(arr)"
   ]
  },
  {
   "cell_type": "code",
   "execution_count": 12,
   "id": "489244fa-25d8-4c0a-b1d0-2fa395141b41",
   "metadata": {},
   "outputs": [
    {
     "name": "stdout",
     "output_type": "stream",
     "text": [
      "20\n"
     ]
    }
   ],
   "source": [
    "#4\n",
    "arr = [10, 5, 20, 8, 15]\n",
    "i=arr[0]\n",
    "for a in range(len(arr)):\n",
    "    if i<arr[a]:\n",
    "        i=arr[a]\n",
    "print(i)"
   ]
  },
  {
   "cell_type": "code",
   "execution_count": 16,
   "id": "f482cad8-0277-4de7-9573-538a5b52663d",
   "metadata": {},
   "outputs": [
    {
     "name": "stdout",
     "output_type": "stream",
     "text": [
      "[1, 2, 3, 4, 5]\n"
     ]
    }
   ],
   "source": [
    "#5\n",
    "arr = [1, 1, 2, 2, 2, 3, 3, 4, 4, 4, 5, 5]\n",
    "i=0\n",
    "j=1\n",
    "while j<len(arr):\n",
    "    if arr[i]!=arr[j]:\n",
    "        i+=1\n",
    "        arr[i]=arr[j]\n",
    "    j+=1\n",
    "print(arr[:i+1])"
   ]
  }
 ],
 "metadata": {
  "kernelspec": {
   "display_name": "Python 3 (ipykernel)",
   "language": "python",
   "name": "python3"
  },
  "language_info": {
   "codemirror_mode": {
    "name": "ipython",
    "version": 3
   },
   "file_extension": ".py",
   "mimetype": "text/x-python",
   "name": "python",
   "nbconvert_exporter": "python",
   "pygments_lexer": "ipython3",
   "version": "3.10.8"
  }
 },
 "nbformat": 4,
 "nbformat_minor": 5
}
